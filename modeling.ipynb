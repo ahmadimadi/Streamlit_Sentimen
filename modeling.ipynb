{
 "cells": [
  {
   "cell_type": "markdown",
   "id": "1a043d96",
   "metadata": {},
   "source": [
    "# Import Libraries"
   ]
  },
  {
   "cell_type": "code",
   "execution_count": 2,
   "id": "3ddc7c59",
   "metadata": {},
   "outputs": [],
   "source": [
    "# import library\n",
    "import pandas as pd\n",
    "from gensim.models import Word2Vec\n",
    "import matplotlib.pyplot as plt\n",
    "import seaborn as sns\n",
    "import numpy as np\n",
    "from sklearn.model_selection import train_test_split\n",
    "from sklearn.metrics import confusion_matrix, accuracy_score, f1_score, precision_score, recall_score\n",
    "from sklearn.ensemble import RandomForestClassifier\n",
    "from sklearn.neighbors import KNeighborsClassifier\n",
    "from imblearn.over_sampling import SMOTE\n",
    "from lightgbm import LGBMClassifier\n",
    "from xgboost import XGBClassifier\n",
    "from sklearn.ensemble import GradientBoostingClassifier\n",
    "import pickle\n"
   ]
  },
  {
   "cell_type": "markdown",
   "id": "2bd3f887",
   "metadata": {},
   "source": [
    "# Membaca Dataset hasil preprocessing"
   ]
  },
  {
   "cell_type": "code",
   "execution_count": 3,
   "id": "ffdc31a4",
   "metadata": {},
   "outputs": [
    {
     "data": {
      "text/html": [
       "<div>\n",
       "<style scoped>\n",
       "    .dataframe tbody tr th:only-of-type {\n",
       "        vertical-align: middle;\n",
       "    }\n",
       "\n",
       "    .dataframe tbody tr th {\n",
       "        vertical-align: top;\n",
       "    }\n",
       "\n",
       "    .dataframe thead th {\n",
       "        text-align: right;\n",
       "    }\n",
       "</style>\n",
       "<table border=\"1\" class=\"dataframe\">\n",
       "  <thead>\n",
       "    <tr style=\"text-align: right;\">\n",
       "      <th></th>\n",
       "      <th>userName</th>\n",
       "      <th>Review</th>\n",
       "    </tr>\n",
       "  </thead>\n",
       "  <tbody>\n",
       "    <tr>\n",
       "      <th>0</th>\n",
       "      <td>Ekfari Ant</td>\n",
       "      <td>kenapa mitra di gabung dengan aplikasi utama s...</td>\n",
       "    </tr>\n",
       "    <tr>\n",
       "      <th>1</th>\n",
       "      <td>Bima Saputra</td>\n",
       "      <td>mantap lah</td>\n",
       "    </tr>\n",
       "    <tr>\n",
       "      <th>2</th>\n",
       "      <td>Sanusi ok</td>\n",
       "      <td>mantap</td>\n",
       "    </tr>\n",
       "    <tr>\n",
       "      <th>3</th>\n",
       "      <td>yanto totti</td>\n",
       "      <td>mantap sesuai yang ingin</td>\n",
       "    </tr>\n",
       "    <tr>\n",
       "      <th>4</th>\n",
       "      <td>Ahmad Murtado</td>\n",
       "      <td>oke</td>\n",
       "    </tr>\n",
       "  </tbody>\n",
       "</table>\n",
       "</div>"
      ],
      "text/plain": [
       "        userName                                             Review\n",
       "0     Ekfari Ant  kenapa mitra di gabung dengan aplikasi utama s...\n",
       "1   Bima Saputra                                         mantap lah\n",
       "2      Sanusi ok                                             mantap\n",
       "3    yanto totti                           mantap sesuai yang ingin\n",
       "4  Ahmad Murtado                                                oke"
      ]
     },
     "execution_count": 3,
     "metadata": {},
     "output_type": "execute_result"
    }
   ],
   "source": [
    "# membaca data hasil preprocessing\n",
    "data = pd.read_csv('dataset/hasil_stemming.csv')\n",
    "data.head()"
   ]
  },
  {
   "cell_type": "code",
   "execution_count": 4,
   "id": "9f5ab0a6",
   "metadata": {},
   "outputs": [
    {
     "data": {
      "text/plain": [
       "(1678, 2)"
      ]
     },
     "execution_count": 4,
     "metadata": {},
     "output_type": "execute_result"
    }
   ],
   "source": [
    "data.shape"
   ]
  },
  {
   "cell_type": "markdown",
   "id": "1e1fe20a",
   "metadata": {},
   "source": [
    "## Labeling"
   ]
  },
  {
   "cell_type": "code",
   "execution_count": 5,
   "id": "0b373c4a",
   "metadata": {},
   "outputs": [],
   "source": [
    "# 1. Baca file lexicon positif dan negatif\n",
    "pos_path = 'dataset/lexicon_positive.csv'\n",
    "neg_path = 'dataset/lexicon_negative.csv'\n",
    "\n",
    "# 2. Load CSV sebagai DataFrame\n",
    "df_pos = pd.read_csv(pos_path)\n",
    "df_neg = pd.read_csv(neg_path)\n",
    "\n",
    "# 3. Buat kamus dari kolom word dan score\n",
    "lexicon_positive = dict(zip(df_pos['word'].str.lower(), df_pos['score']))\n",
    "lexicon_negative = dict(zip(df_neg['word'].str.lower(), df_neg['score']))\n",
    "\n",
    "# 4. Fungsi analisis sentimen\n",
    "def sentiment_analysis_lexicon(text):\n",
    "    score = 0\n",
    "    words = text.lower().split()\n",
    "\n",
    "    for word in words:\n",
    "        if word in lexicon_positive:\n",
    "            score += lexicon_positive[word]\n",
    "        if word in lexicon_negative:\n",
    "            score -= lexicon_negative[word]\n",
    "\n",
    "    if score > 0:\n",
    "        sentiment = 'positif'\n",
    "    elif score < 0:\n",
    "        sentiment = 'negatif'\n",
    "    else:\n",
    "        sentiment = 'netral'\n",
    "\n",
    "    return score, sentiment"
   ]
  },
  {
   "cell_type": "code",
   "execution_count": 6,
   "id": "f25d3588",
   "metadata": {},
   "outputs": [],
   "source": [
    "# Terapkan fungsi ke kolom Review\n",
    "results = data['Review'].apply(sentiment_analysis_lexicon)\n",
    "results = list(zip(*results))\n",
    "data['score'] = results[0]\n",
    "data['Sentimen'] = results[1]"
   ]
  },
  {
   "cell_type": "code",
   "execution_count": 7,
   "id": "f0a8f0ba",
   "metadata": {},
   "outputs": [
    {
     "data": {
      "text/html": [
       "<div>\n",
       "<style scoped>\n",
       "    .dataframe tbody tr th:only-of-type {\n",
       "        vertical-align: middle;\n",
       "    }\n",
       "\n",
       "    .dataframe tbody tr th {\n",
       "        vertical-align: top;\n",
       "    }\n",
       "\n",
       "    .dataframe thead th {\n",
       "        text-align: right;\n",
       "    }\n",
       "</style>\n",
       "<table border=\"1\" class=\"dataframe\">\n",
       "  <thead>\n",
       "    <tr style=\"text-align: right;\">\n",
       "      <th></th>\n",
       "      <th>userName</th>\n",
       "      <th>Review</th>\n",
       "      <th>score</th>\n",
       "      <th>Sentimen</th>\n",
       "    </tr>\n",
       "  </thead>\n",
       "  <tbody>\n",
       "    <tr>\n",
       "      <th>0</th>\n",
       "      <td>Ekfari Ant</td>\n",
       "      <td>kenapa mitra di gabung dengan aplikasi utama s...</td>\n",
       "      <td>0</td>\n",
       "      <td>netral</td>\n",
       "    </tr>\n",
       "    <tr>\n",
       "      <th>1</th>\n",
       "      <td>Bima Saputra</td>\n",
       "      <td>mantap lah</td>\n",
       "      <td>2</td>\n",
       "      <td>positif</td>\n",
       "    </tr>\n",
       "    <tr>\n",
       "      <th>2</th>\n",
       "      <td>Sanusi ok</td>\n",
       "      <td>mantap</td>\n",
       "      <td>2</td>\n",
       "      <td>positif</td>\n",
       "    </tr>\n",
       "    <tr>\n",
       "      <th>3</th>\n",
       "      <td>yanto totti</td>\n",
       "      <td>mantap sesuai yang ingin</td>\n",
       "      <td>2</td>\n",
       "      <td>positif</td>\n",
       "    </tr>\n",
       "    <tr>\n",
       "      <th>4</th>\n",
       "      <td>Ahmad Murtado</td>\n",
       "      <td>oke</td>\n",
       "      <td>1</td>\n",
       "      <td>positif</td>\n",
       "    </tr>\n",
       "  </tbody>\n",
       "</table>\n",
       "</div>"
      ],
      "text/plain": [
       "        userName                                             Review  score  \\\n",
       "0     Ekfari Ant  kenapa mitra di gabung dengan aplikasi utama s...      0   \n",
       "1   Bima Saputra                                         mantap lah      2   \n",
       "2      Sanusi ok                                             mantap      2   \n",
       "3    yanto totti                           mantap sesuai yang ingin      2   \n",
       "4  Ahmad Murtado                                                oke      1   \n",
       "\n",
       "  Sentimen  \n",
       "0   netral  \n",
       "1  positif  \n",
       "2  positif  \n",
       "3  positif  \n",
       "4  positif  "
      ]
     },
     "execution_count": 7,
     "metadata": {},
     "output_type": "execute_result"
    }
   ],
   "source": [
    "# menampilkan hasil\n",
    "data.head()"
   ]
  },
  {
   "cell_type": "code",
   "execution_count": 8,
   "id": "4f6cbeb1",
   "metadata": {},
   "outputs": [],
   "source": [
    "# encoding label sentimen jadi numerik\n",
    "data['y'] = data['Sentimen'].map({'positif': 2, 'negatif': 0, 'netral': 1})"
   ]
  },
  {
   "cell_type": "code",
   "execution_count": 9,
   "id": "dbf31c60",
   "metadata": {},
   "outputs": [
    {
     "data": {
      "text/html": [
       "<div>\n",
       "<style scoped>\n",
       "    .dataframe tbody tr th:only-of-type {\n",
       "        vertical-align: middle;\n",
       "    }\n",
       "\n",
       "    .dataframe tbody tr th {\n",
       "        vertical-align: top;\n",
       "    }\n",
       "\n",
       "    .dataframe thead th {\n",
       "        text-align: right;\n",
       "    }\n",
       "</style>\n",
       "<table border=\"1\" class=\"dataframe\">\n",
       "  <thead>\n",
       "    <tr style=\"text-align: right;\">\n",
       "      <th></th>\n",
       "      <th>userName</th>\n",
       "      <th>Review</th>\n",
       "      <th>score</th>\n",
       "      <th>Sentimen</th>\n",
       "      <th>y</th>\n",
       "    </tr>\n",
       "  </thead>\n",
       "  <tbody>\n",
       "    <tr>\n",
       "      <th>0</th>\n",
       "      <td>Ekfari Ant</td>\n",
       "      <td>kenapa mitra di gabung dengan aplikasi utama s...</td>\n",
       "      <td>0</td>\n",
       "      <td>netral</td>\n",
       "      <td>1</td>\n",
       "    </tr>\n",
       "    <tr>\n",
       "      <th>1</th>\n",
       "      <td>Bima Saputra</td>\n",
       "      <td>mantap lah</td>\n",
       "      <td>2</td>\n",
       "      <td>positif</td>\n",
       "      <td>2</td>\n",
       "    </tr>\n",
       "    <tr>\n",
       "      <th>2</th>\n",
       "      <td>Sanusi ok</td>\n",
       "      <td>mantap</td>\n",
       "      <td>2</td>\n",
       "      <td>positif</td>\n",
       "      <td>2</td>\n",
       "    </tr>\n",
       "    <tr>\n",
       "      <th>3</th>\n",
       "      <td>yanto totti</td>\n",
       "      <td>mantap sesuai yang ingin</td>\n",
       "      <td>2</td>\n",
       "      <td>positif</td>\n",
       "      <td>2</td>\n",
       "    </tr>\n",
       "    <tr>\n",
       "      <th>4</th>\n",
       "      <td>Ahmad Murtado</td>\n",
       "      <td>oke</td>\n",
       "      <td>1</td>\n",
       "      <td>positif</td>\n",
       "      <td>2</td>\n",
       "    </tr>\n",
       "  </tbody>\n",
       "</table>\n",
       "</div>"
      ],
      "text/plain": [
       "        userName                                             Review  score  \\\n",
       "0     Ekfari Ant  kenapa mitra di gabung dengan aplikasi utama s...      0   \n",
       "1   Bima Saputra                                         mantap lah      2   \n",
       "2      Sanusi ok                                             mantap      2   \n",
       "3    yanto totti                           mantap sesuai yang ingin      2   \n",
       "4  Ahmad Murtado                                                oke      1   \n",
       "\n",
       "  Sentimen  y  \n",
       "0   netral  1  \n",
       "1  positif  2  \n",
       "2  positif  2  \n",
       "3  positif  2  \n",
       "4  positif  2  "
      ]
     },
     "execution_count": 9,
     "metadata": {},
     "output_type": "execute_result"
    }
   ],
   "source": [
    "data.head()"
   ]
  },
  {
   "cell_type": "markdown",
   "id": "2a6c31c0",
   "metadata": {},
   "source": [
    "# Training dataset menggunakan W2Vec"
   ]
  },
  {
   "cell_type": "code",
   "execution_count": 10,
   "id": "fc92f595",
   "metadata": {},
   "outputs": [],
   "source": [
    "# Training Word2Vec\n",
    "model_w2v = Word2Vec(sentences=data['Review'], vector_size=250, window=5, min_count=1, workers=4)\n",
    "# menyimpan model w2v\n",
    "model_w2v.save(\"models/model_w2v.model\")\n"
   ]
  },
  {
   "cell_type": "markdown",
   "id": "aa0e0436",
   "metadata": {},
   "source": [
    "**Mengubah kalimat jadi vector**"
   ]
  },
  {
   "cell_type": "code",
   "execution_count": 11,
   "id": "86567e50",
   "metadata": {},
   "outputs": [],
   "source": [
    "# fungsi untuk mengubah kalimat menjadi vektor\n",
    "def sentence_vector(sentence, model):\n",
    "    vectors = [model.wv[word] for word in sentence if word in model.wv]\n",
    "    if len(vectors) == 0:\n",
    "        return np.zeros(model.vector_size)\n",
    "    return np.mean(vectors, axis=0)\n",
    "\n"
   ]
  },
  {
   "cell_type": "code",
   "execution_count": 12,
   "id": "978f1c04",
   "metadata": {},
   "outputs": [],
   "source": [
    "# Buat X (fitur) menjadi vektor\n",
    "X = np.array([sentence_vector(sent, model_w2v) for sent in data['Review']])\n",
    "Y = data['y'].values"
   ]
  },
  {
   "cell_type": "code",
   "execution_count": 13,
   "id": "937767d7",
   "metadata": {},
   "outputs": [
    {
     "data": {
      "text/plain": [
       "array([[ 0.06652508, -0.05652302,  0.06623229, ...,  0.01193473,\n",
       "        -0.05724082,  0.11265411],\n",
       "       [ 0.06137762, -0.05425477,  0.05824257, ...,  0.01536214,\n",
       "        -0.05790101,  0.10461821],\n",
       "       [ 0.06276721, -0.053807  ,  0.06001196, ...,  0.01103191,\n",
       "        -0.06110264,  0.1127708 ],\n",
       "       ...,\n",
       "       [ 0.06540269, -0.05634982,  0.06461189, ...,  0.01407956,\n",
       "        -0.05640594,  0.10983858],\n",
       "       [ 0.06515504, -0.0528092 ,  0.05060536, ...,  0.01977276,\n",
       "        -0.0605451 ,  0.11045523],\n",
       "       [ 0.06425936, -0.05563464,  0.06356111, ...,  0.01550481,\n",
       "        -0.05698438,  0.11432547]], dtype=float32)"
      ]
     },
     "metadata": {},
     "output_type": "display_data"
    },
    {
     "data": {
      "text/plain": [
       "array([1, 2, 2, ..., 2, 2, 1])"
      ]
     },
     "metadata": {},
     "output_type": "display_data"
    }
   ],
   "source": [
    "# menampilkan X dan Y yang sudah format vektor\n",
    "display(\n",
    "    X, Y\n",
    ")"
   ]
  },
  {
   "cell_type": "code",
   "execution_count": 14,
   "id": "d60b1414",
   "metadata": {},
   "outputs": [
    {
     "data": {
      "text/plain": [
       "(array([0, 1, 2]), array([160, 826, 692]))"
      ]
     },
     "execution_count": 14,
     "metadata": {},
     "output_type": "execute_result"
    }
   ],
   "source": [
    "# menampilkan distribusi label (nilai unik dan jumlahnya)\n",
    "np.unique(Y, return_counts=True)"
   ]
  },
  {
   "cell_type": "markdown",
   "id": "dabc1ab4",
   "metadata": {},
   "source": [
    "# Splitting Data\n",
    "\n",
    "Rasio splitting data 70:30 - 80:20"
   ]
  },
  {
   "cell_type": "code",
   "execution_count": 15,
   "id": "77ea965c",
   "metadata": {},
   "outputs": [],
   "source": [
    "# splitting data 70:30\n",
    "x70_train, x70_test, y30_train, y30_test = train_test_split(X, Y, random_state=0, stratify=Y, train_size=0.7)\n",
    "# splitting data 80:20\n",
    "x80_train, x80_test, y20_train, y20_test = train_test_split(X, Y, random_state=0, stratify=Y, train_size=0.8)"
   ]
  },
  {
   "cell_type": "code",
   "execution_count": 16,
   "id": "8a2b5c23",
   "metadata": {},
   "outputs": [
    {
     "data": {
      "text/plain": [
       "(1174, 250)"
      ]
     },
     "metadata": {},
     "output_type": "display_data"
    },
    {
     "data": {
      "text/plain": [
       "(1174,)"
      ]
     },
     "metadata": {},
     "output_type": "display_data"
    },
    {
     "data": {
      "text/plain": [
       "(1342, 250)"
      ]
     },
     "metadata": {},
     "output_type": "display_data"
    },
    {
     "data": {
      "text/plain": [
       "(1342,)"
      ]
     },
     "metadata": {},
     "output_type": "display_data"
    }
   ],
   "source": [
    "# ukuran data 70:30\n",
    "display(\n",
    "    x70_train.shape, y30_train.shape,\n",
    ")  \n",
    "# ukuran data 80:20\n",
    "display(\n",
    "    x80_train.shape, y20_train.shape\n",
    ")"
   ]
  },
  {
   "cell_type": "code",
   "execution_count": 17,
   "id": "66a363db",
   "metadata": {},
   "outputs": [
    {
     "name": "stderr",
     "output_type": "stream",
     "text": [
      "/var/folders/yf/qt8_6rfn58z6h6y2phqypdxr0000gn/T/ipykernel_19056/3346986792.py:11: UserWarning: set_ticklabels() should only be used with a fixed number of ticks, i.e. after set_ticks() or using a FixedLocator.\n",
      "  ax0.set_xticklabels(['Negatif', 'Netral', 'Positif'])\n",
      "/var/folders/yf/qt8_6rfn58z6h6y2phqypdxr0000gn/T/ipykernel_19056/3346986792.py:21: UserWarning: set_ticklabels() should only be used with a fixed number of ticks, i.e. after set_ticks() or using a FixedLocator.\n",
      "  ax1.set_xticklabels(['Negatif', 'Netral', 'Positif'])\n"
     ]
    },
    {
     "data": {
      "image/png": "[encoded data removed]",
      "text/plain": [
       "<Figure size 1200x400 with 2 Axes>"
      ]
     },
     "metadata": {},
     "output_type": "display_data"
    }
   ],
   "source": [
    "# tampilkan distribusi\n",
    "fig, ax = plt.subplots(1, 2, figsize=(12, 4))\n",
    "\n",
    "# \n",
    "ax0 = ax[0]\n",
    "plot1 = sns.countplot(x=y30_train, ax=ax0)\n",
    "ax0.set_title('Distribusi Label (70:30)')\n",
    "ax0.set_xlabel('Label')\n",
    "ax0.set_ylabel('Jumlah')\n",
    "ax0.set_ylim(0, 800)\n",
    "ax0.set_xticklabels(['Negatif', 'Netral', 'Positif'])\n",
    "for container in [plot1.containers[0]]:\n",
    "    ax0.bar_label(container, label_type='edge', fontsize=10, padding=3)\n",
    "\n",
    "ax1 = ax[1]\n",
    "plot2 = sns.countplot(x=y20_train, ax=ax1)\n",
    "ax1.set_title('Distribusi Label (80:20)')\n",
    "ax1.set_xlabel('Label')\n",
    "ax1.set_ylabel('Jumlah')\n",
    "ax1.set_ylim(0, 800)\n",
    "ax1.set_xticklabels(['Negatif', 'Netral', 'Positif'])\n",
    "for container in [plot2.containers[0]]:\n",
    "    ax1.bar_label(container, label_type='edge', fontsize=10, padding=3)\n",
    "plt.tight_layout()\n",
    "plt.show()"
   ]
  },
  {
   "cell_type": "markdown",
   "id": "5d71a0ed",
   "metadata": {},
   "source": [
    "# Modeling KNN dan RF Awal"
   ]
  },
  {
   "cell_type": "code",
   "execution_count": 18,
   "id": "ca18e842",
   "metadata": {},
   "outputs": [],
   "source": [
    "# membuat list data untuk efisiensi\n",
    "xtrain = [x70_train, x80_train]\n",
    "ytrain = [y30_train, y20_train]\n",
    "xtest = [x70_test, x80_test]\n",
    "ytest = [y30_test, y20_test]"
   ]
  },
  {
   "cell_type": "code",
   "execution_count": 19,
   "id": "dc3bde96",
   "metadata": {},
   "outputs": [],
   "source": [
    "def metrics(y_true, y_pred):\n",
    "    acc = accuracy_score(y_true, y_pred)\n",
    "    f1 = f1_score(y_true, y_pred, average='weighted')\n",
    "    prec = precision_score(y_true, y_pred, average='weighted')\n",
    "    rec = recall_score(y_true, y_pred, average='weighted')\n",
    "    return acc, f1, prec, rec"
   ]
  },
  {
   "cell_type": "code",
   "execution_count": 20,
   "id": "bdb92434",
   "metadata": {},
   "outputs": [],
   "source": [
    "def evaluate_model(model, xtrainlist, ytrainlist, xtestlist, ytestlist):\n",
    "    result = {\n",
    "        'model': [],\n",
    "        'splitting_data': [],\n",
    "        'accuracy_score': [],\n",
    "        'f1_score': [],\n",
    "        'precision_score': [],\n",
    "        'recall_score': []\n",
    "    }\n",
    "    name = model.__class__.__name__\n",
    "    train_size = ['70:30', '80:20']\n",
    "\n",
    "    if len(xtrainlist)==1:\n",
    "        model.fit(xtrainlist[0], ytrainlist[0])\n",
    "        ypred = model.predict(xtestlist[0])\n",
    "        acc, f1, precision, recall = metrics(ytestlist[0], ypred)\n",
    "        result['model'].append(name)\n",
    "        result['splitting_data'].append(train_size[0])\n",
    "        result['accuracy_score'].append(acc)\n",
    "        result['f1_score'].append(f1)\n",
    "        result['precision_score'].append(precision)\n",
    "        result['recall_score'].append(recall)\n",
    "        return pd.DataFrame(result)\n",
    "    \n",
    "  # perulangan berdasarkan index ke-0 dan ke-1 (2 data split)\n",
    "    for i in range(len(train_size)):\n",
    "        xtrain = xtrainlist[i]\n",
    "        ytrain = ytrainlist[i]\n",
    "        xtest = xtestlist[i]\n",
    "        ytest = ytestlist[i]\n",
    "\n",
    "        model.fit(xtrain, ytrain)\n",
    "        ypred = model.predict(xtest)\n",
    "        acc, f1, precision, recall = metrics(ytest, ypred)\n",
    "\n",
    "        result['model'].append(name)\n",
    "        result['splitting_data'].append(train_size[i])\n",
    "        result['accuracy_score'].append(acc)\n",
    "        result['f1_score'].append(f1)\n",
    "        result['precision_score'].append(precision)\n",
    "        result['recall_score'].append(recall)\n",
    "\n",
    "    return pd.DataFrame(result)\n"
   ]
  },
  {
   "cell_type": "markdown",
   "id": "5c194e6b",
   "metadata": {},
   "source": [
    "#### Model Awal RF dan KNN Sebelum Teknik SMOTE"
   ]
  },
  {
   "cell_type": "code",
   "execution_count": 21,
   "id": "427368e1",
   "metadata": {},
   "outputs": [
    {
     "data": {
      "text/html": [
       "<div>\n",
       "<style scoped>\n",
       "    .dataframe tbody tr th:only-of-type {\n",
       "        vertical-align: middle;\n",
       "    }\n",
       "\n",
       "    .dataframe tbody tr th {\n",
       "        vertical-align: top;\n",
       "    }\n",
       "\n",
       "    .dataframe thead th {\n",
       "        text-align: right;\n",
       "    }\n",
       "</style>\n",
       "<table border=\"1\" class=\"dataframe\">\n",
       "  <thead>\n",
       "    <tr style=\"text-align: right;\">\n",
       "      <th></th>\n",
       "      <th>model</th>\n",
       "      <th>splitting_data</th>\n",
       "      <th>accuracy_score</th>\n",
       "      <th>f1_score</th>\n",
       "      <th>precision_score</th>\n",
       "      <th>recall_score</th>\n",
       "    </tr>\n",
       "  </thead>\n",
       "  <tbody>\n",
       "    <tr>\n",
       "      <th>0</th>\n",
       "      <td>RandomForestClassifier</td>\n",
       "      <td>70:30</td>\n",
       "      <td>0.708333</td>\n",
       "      <td>0.671644</td>\n",
       "      <td>0.705852</td>\n",
       "      <td>0.708333</td>\n",
       "    </tr>\n",
       "    <tr>\n",
       "      <th>1</th>\n",
       "      <td>RandomForestClassifier</td>\n",
       "      <td>80:20</td>\n",
       "      <td>0.693452</td>\n",
       "      <td>0.665745</td>\n",
       "      <td>0.700309</td>\n",
       "      <td>0.693452</td>\n",
       "    </tr>\n",
       "  </tbody>\n",
       "</table>\n",
       "</div>"
      ],
      "text/plain": [
       "                    model splitting_data  accuracy_score  f1_score  \\\n",
       "0  RandomForestClassifier          70:30        0.708333  0.671644   \n",
       "1  RandomForestClassifier          80:20        0.693452  0.665745   \n",
       "\n",
       "   precision_score  recall_score  \n",
       "0         0.705852      0.708333  \n",
       "1         0.700309      0.693452  "
      ]
     },
     "execution_count": 21,
     "metadata": {},
     "output_type": "execute_result"
    }
   ],
   "source": [
    "# inisialisasi model random forest\n",
    "rf = RandomForestClassifier(random_state=0)\n",
    "# hasil model RF sebelum SMOTE\n",
    "evaluate_model(rf, xtrain, ytrain, xtest, ytest)"
   ]
  },
  {
   "cell_type": "code",
   "execution_count": 22,
   "id": "16dc9842",
   "metadata": {},
   "outputs": [
    {
     "data": {
      "text/html": [
       "<div>\n",
       "<style scoped>\n",
       "    .dataframe tbody tr th:only-of-type {\n",
       "        vertical-align: middle;\n",
       "    }\n",
       "\n",
       "    .dataframe tbody tr th {\n",
       "        vertical-align: top;\n",
       "    }\n",
       "\n",
       "    .dataframe thead th {\n",
       "        text-align: right;\n",
       "    }\n",
       "</style>\n",
       "<table border=\"1\" class=\"dataframe\">\n",
       "  <thead>\n",
       "    <tr style=\"text-align: right;\">\n",
       "      <th></th>\n",
       "      <th>model</th>\n",
       "      <th>splitting_data</th>\n",
       "      <th>accuracy_score</th>\n",
       "      <th>f1_score</th>\n",
       "      <th>precision_score</th>\n",
       "      <th>recall_score</th>\n",
       "    </tr>\n",
       "  </thead>\n",
       "  <tbody>\n",
       "    <tr>\n",
       "      <th>0</th>\n",
       "      <td>KNeighborsClassifier</td>\n",
       "      <td>70:30</td>\n",
       "      <td>0.644841</td>\n",
       "      <td>0.639618</td>\n",
       "      <td>0.640658</td>\n",
       "      <td>0.644841</td>\n",
       "    </tr>\n",
       "    <tr>\n",
       "      <th>1</th>\n",
       "      <td>KNeighborsClassifier</td>\n",
       "      <td>80:20</td>\n",
       "      <td>0.630952</td>\n",
       "      <td>0.625803</td>\n",
       "      <td>0.626966</td>\n",
       "      <td>0.630952</td>\n",
       "    </tr>\n",
       "  </tbody>\n",
       "</table>\n",
       "</div>"
      ],
      "text/plain": [
       "                  model splitting_data  accuracy_score  f1_score  \\\n",
       "0  KNeighborsClassifier          70:30        0.644841  0.639618   \n",
       "1  KNeighborsClassifier          80:20        0.630952  0.625803   \n",
       "\n",
       "   precision_score  recall_score  \n",
       "0         0.640658      0.644841  \n",
       "1         0.626966      0.630952  "
      ]
     },
     "execution_count": 22,
     "metadata": {},
     "output_type": "execute_result"
    }
   ],
   "source": [
    "# inisialisasi model KNN\n",
    "knn = KNeighborsClassifier(n_neighbors=5)  \n",
    "# hasil model KNN sebelum SMOTE\n",
    "evaluate_model(knn, xtrain, ytrain, xtest, ytest)"
   ]
  },
  {
   "cell_type": "markdown",
   "id": "3ab4b1fa",
   "metadata": {},
   "source": [
    "#### Model Awal RF dan KNN Sesudah Teknik SMOTE"
   ]
  },
  {
   "cell_type": "code",
   "execution_count": 23,
   "id": "3c1bef99",
   "metadata": {},
   "outputs": [],
   "source": [
    "smote = SMOTE(random_state=0) # inisialisasi SMOTE\n",
    "# melakukan oversampling pada data latih\n",
    "x70train_smote, y30train_smote = smote.fit_resample(x70_train, y30_train)\n",
    "x80_train_smote, y20_train_smote = smote.fit_resample(x80_train, y20_train)\n"
   ]
  },
  {
   "cell_type": "code",
   "execution_count": 24,
   "id": "1cb384ab",
   "metadata": {},
   "outputs": [
    {
     "data": {
      "text/plain": [
       "(1734, 250)"
      ]
     },
     "metadata": {},
     "output_type": "display_data"
    },
    {
     "data": {
      "text/plain": [
       "(1734,)"
      ]
     },
     "metadata": {},
     "output_type": "display_data"
    },
    {
     "data": {
      "text/plain": [
       "(1983, 250)"
      ]
     },
     "metadata": {},
     "output_type": "display_data"
    },
    {
     "data": {
      "text/plain": [
       "(1983,)"
      ]
     },
     "metadata": {},
     "output_type": "display_data"
    }
   ],
   "source": [
    "# ukuran data 70:30 setelah smote\n",
    "display(\n",
    "    x70train_smote.shape, y30train_smote.shape,\n",
    ")\n",
    "\n",
    "# ukuran data 80:20 setelah smote\n",
    "display(\n",
    "    x80_train_smote.shape, y20_train_smote.shape,\n",
    ")"
   ]
  },
  {
   "cell_type": "code",
   "execution_count": 25,
   "id": "6d0815c5",
   "metadata": {},
   "outputs": [],
   "source": [
    "# list data train smote\n",
    "x_train_smote = [x70train_smote, x80_train_smote]\n",
    "y_train_smote = [y30train_smote, y20_train_smote]"
   ]
  },
  {
   "cell_type": "code",
   "execution_count": 26,
   "id": "e3e74982",
   "metadata": {},
   "outputs": [
    {
     "data": {
      "text/html": [
       "<div>\n",
       "<style scoped>\n",
       "    .dataframe tbody tr th:only-of-type {\n",
       "        vertical-align: middle;\n",
       "    }\n",
       "\n",
       "    .dataframe tbody tr th {\n",
       "        vertical-align: top;\n",
       "    }\n",
       "\n",
       "    .dataframe thead th {\n",
       "        text-align: right;\n",
       "    }\n",
       "</style>\n",
       "<table border=\"1\" class=\"dataframe\">\n",
       "  <thead>\n",
       "    <tr style=\"text-align: right;\">\n",
       "      <th></th>\n",
       "      <th>model</th>\n",
       "      <th>splitting_data</th>\n",
       "      <th>accuracy_score</th>\n",
       "      <th>f1_score</th>\n",
       "      <th>precision_score</th>\n",
       "      <th>recall_score</th>\n",
       "    </tr>\n",
       "  </thead>\n",
       "  <tbody>\n",
       "    <tr>\n",
       "      <th>0</th>\n",
       "      <td>RandomForestClassifier</td>\n",
       "      <td>70:30</td>\n",
       "      <td>0.676587</td>\n",
       "      <td>0.679689</td>\n",
       "      <td>0.695834</td>\n",
       "      <td>0.676587</td>\n",
       "    </tr>\n",
       "    <tr>\n",
       "      <th>1</th>\n",
       "      <td>RandomForestClassifier</td>\n",
       "      <td>80:20</td>\n",
       "      <td>0.690476</td>\n",
       "      <td>0.695942</td>\n",
       "      <td>0.721703</td>\n",
       "      <td>0.690476</td>\n",
       "    </tr>\n",
       "  </tbody>\n",
       "</table>\n",
       "</div>"
      ],
      "text/plain": [
       "                    model splitting_data  accuracy_score  f1_score  \\\n",
       "0  RandomForestClassifier          70:30        0.676587  0.679689   \n",
       "1  RandomForestClassifier          80:20        0.690476  0.695942   \n",
       "\n",
       "   precision_score  recall_score  \n",
       "0         0.695834      0.676587  \n",
       "1         0.721703      0.690476  "
      ]
     },
     "execution_count": 26,
     "metadata": {},
     "output_type": "execute_result"
    }
   ],
   "source": [
    "# evaluasi model RF setelah SMOTE\n",
    "evaluate_model(rf, x_train_smote, y_train_smote, xtest, ytest)"
   ]
  },
  {
   "cell_type": "code",
   "execution_count": 27,
   "id": "02502783",
   "metadata": {},
   "outputs": [
    {
     "data": {
      "text/html": [
       "<div>\n",
       "<style scoped>\n",
       "    .dataframe tbody tr th:only-of-type {\n",
       "        vertical-align: middle;\n",
       "    }\n",
       "\n",
       "    .dataframe tbody tr th {\n",
       "        vertical-align: top;\n",
       "    }\n",
       "\n",
       "    .dataframe thead th {\n",
       "        text-align: right;\n",
       "    }\n",
       "</style>\n",
       "<table border=\"1\" class=\"dataframe\">\n",
       "  <thead>\n",
       "    <tr style=\"text-align: right;\">\n",
       "      <th></th>\n",
       "      <th>model</th>\n",
       "      <th>splitting_data</th>\n",
       "      <th>accuracy_score</th>\n",
       "      <th>f1_score</th>\n",
       "      <th>precision_score</th>\n",
       "      <th>recall_score</th>\n",
       "    </tr>\n",
       "  </thead>\n",
       "  <tbody>\n",
       "    <tr>\n",
       "      <th>0</th>\n",
       "      <td>KNeighborsClassifier</td>\n",
       "      <td>70:30</td>\n",
       "      <td>0.573413</td>\n",
       "      <td>0.604204</td>\n",
       "      <td>0.668636</td>\n",
       "      <td>0.573413</td>\n",
       "    </tr>\n",
       "    <tr>\n",
       "      <th>1</th>\n",
       "      <td>KNeighborsClassifier</td>\n",
       "      <td>80:20</td>\n",
       "      <td>0.535714</td>\n",
       "      <td>0.567524</td>\n",
       "      <td>0.636303</td>\n",
       "      <td>0.535714</td>\n",
       "    </tr>\n",
       "  </tbody>\n",
       "</table>\n",
       "</div>"
      ],
      "text/plain": [
       "                  model splitting_data  accuracy_score  f1_score  \\\n",
       "0  KNeighborsClassifier          70:30        0.573413  0.604204   \n",
       "1  KNeighborsClassifier          80:20        0.535714  0.567524   \n",
       "\n",
       "   precision_score  recall_score  \n",
       "0         0.668636      0.573413  \n",
       "1         0.636303      0.535714  "
      ]
     },
     "execution_count": 27,
     "metadata": {},
     "output_type": "execute_result"
    }
   ],
   "source": [
    "# evaluasi model KNN setelah SMOTE\n",
    "evaluate_model(knn, x_train_smote, y_train_smote, xtest, ytest)"
   ]
  },
  {
   "cell_type": "markdown",
   "id": "89c01be0",
   "metadata": {},
   "source": [
    "#### Model Boosting sebelum SMOTE"
   ]
  },
  {
   "cell_type": "code",
   "execution_count": 28,
   "id": "cb7e3418",
   "metadata": {},
   "outputs": [
    {
     "name": "stdout",
     "output_type": "stream",
     "text": [
      "[LightGBM] [Info] Auto-choosing col-wise multi-threading, the overhead of testing was 0.002269 seconds.\n",
      "You can set `force_col_wise=true` to remove the overhead.\n",
      "[LightGBM] [Info] Total Bins 63577\n",
      "[LightGBM] [Info] Number of data points in the train set: 1174, number of used features: 250\n",
      "[LightGBM] [Info] Start training from score -2.349673\n",
      "[LightGBM] [Info] Start training from score -0.708598\n",
      "[LightGBM] [Info] Start training from score -0.886087\n",
      "[LightGBM] [Info] Auto-choosing col-wise multi-threading, the overhead of testing was 0.002169 seconds.\n",
      "You can set `force_col_wise=true` to remove the overhead.\n",
      "[LightGBM] [Info] Total Bins 63617\n",
      "[LightGBM] [Info] Number of data points in the train set: 1342, number of used features: 250\n",
      "[LightGBM] [Info] Start training from score -2.349886\n",
      "[LightGBM] [Info] Start training from score -0.708162\n",
      "[LightGBM] [Info] Start training from score -0.886558\n"
     ]
    },
    {
     "data": {
      "text/html": [
       "<div>\n",
       "<style scoped>\n",
       "    .dataframe tbody tr th:only-of-type {\n",
       "        vertical-align: middle;\n",
       "    }\n",
       "\n",
       "    .dataframe tbody tr th {\n",
       "        vertical-align: top;\n",
       "    }\n",
       "\n",
       "    .dataframe thead th {\n",
       "        text-align: right;\n",
       "    }\n",
       "</style>\n",
       "<table border=\"1\" class=\"dataframe\">\n",
       "  <thead>\n",
       "    <tr style=\"text-align: right;\">\n",
       "      <th></th>\n",
       "      <th>model</th>\n",
       "      <th>splitting_data</th>\n",
       "      <th>accuracy_score</th>\n",
       "      <th>f1_score</th>\n",
       "      <th>precision_score</th>\n",
       "      <th>recall_score</th>\n",
       "    </tr>\n",
       "  </thead>\n",
       "  <tbody>\n",
       "    <tr>\n",
       "      <th>0</th>\n",
       "      <td>LGBMClassifier</td>\n",
       "      <td>70:30</td>\n",
       "      <td>0.712302</td>\n",
       "      <td>0.686199</td>\n",
       "      <td>0.684025</td>\n",
       "      <td>0.712302</td>\n",
       "    </tr>\n",
       "    <tr>\n",
       "      <th>1</th>\n",
       "      <td>LGBMClassifier</td>\n",
       "      <td>80:20</td>\n",
       "      <td>0.723214</td>\n",
       "      <td>0.700980</td>\n",
       "      <td>0.730208</td>\n",
       "      <td>0.723214</td>\n",
       "    </tr>\n",
       "  </tbody>\n",
       "</table>\n",
       "</div>"
      ],
      "text/plain": [
       "            model splitting_data  accuracy_score  f1_score  precision_score  \\\n",
       "0  LGBMClassifier          70:30        0.712302  0.686199         0.684025   \n",
       "1  LGBMClassifier          80:20        0.723214  0.700980         0.730208   \n",
       "\n",
       "   recall_score  \n",
       "0      0.712302  \n",
       "1      0.723214  "
      ]
     },
     "execution_count": 28,
     "metadata": {},
     "output_type": "execute_result"
    }
   ],
   "source": [
    "# LGBM\n",
    "lgb = LGBMClassifier(random_state=0)\n",
    "# evaluasi model LGBM sebelum SMOTE\n",
    "evaluate_model(lgb, xtrain, ytrain, xtest, ytest)"
   ]
  },
  {
   "cell_type": "code",
   "execution_count": 29,
   "id": "d70f531d",
   "metadata": {},
   "outputs": [
    {
     "name": "stderr",
     "output_type": "stream",
     "text": [
      "/Users/apa/.pyenv/versions/3.10.12/lib/python3.10/site-packages/xgboost/core.py:158: UserWarning: [14:58:14] WARNING: /Users/runner/work/xgboost/xgboost/src/learner.cc:740: \n",
      "Parameters: { \"use_label_encoder\" } are not used.\n",
      "\n",
      "  warnings.warn(smsg, UserWarning)\n",
      "/Users/apa/.pyenv/versions/3.10.12/lib/python3.10/site-packages/xgboost/core.py:158: UserWarning: [14:58:15] WARNING: /Users/runner/work/xgboost/xgboost/src/learner.cc:740: \n",
      "Parameters: { \"use_label_encoder\" } are not used.\n",
      "\n",
      "  warnings.warn(smsg, UserWarning)\n"
     ]
    },
    {
     "data": {
      "text/html": [
       "<div>\n",
       "<style scoped>\n",
       "    .dataframe tbody tr th:only-of-type {\n",
       "        vertical-align: middle;\n",
       "    }\n",
       "\n",
       "    .dataframe tbody tr th {\n",
       "        vertical-align: top;\n",
       "    }\n",
       "\n",
       "    .dataframe thead th {\n",
       "        text-align: right;\n",
       "    }\n",
       "</style>\n",
       "<table border=\"1\" class=\"dataframe\">\n",
       "  <thead>\n",
       "    <tr style=\"text-align: right;\">\n",
       "      <th></th>\n",
       "      <th>model</th>\n",
       "      <th>splitting_data</th>\n",
       "      <th>accuracy_score</th>\n",
       "      <th>f1_score</th>\n",
       "      <th>precision_score</th>\n",
       "      <th>recall_score</th>\n",
       "    </tr>\n",
       "  </thead>\n",
       "  <tbody>\n",
       "    <tr>\n",
       "      <th>0</th>\n",
       "      <td>XGBClassifier</td>\n",
       "      <td>70:30</td>\n",
       "      <td>0.700397</td>\n",
       "      <td>0.680688</td>\n",
       "      <td>0.682934</td>\n",
       "      <td>0.700397</td>\n",
       "    </tr>\n",
       "    <tr>\n",
       "      <th>1</th>\n",
       "      <td>XGBClassifier</td>\n",
       "      <td>80:20</td>\n",
       "      <td>0.708333</td>\n",
       "      <td>0.688825</td>\n",
       "      <td>0.697830</td>\n",
       "      <td>0.708333</td>\n",
       "    </tr>\n",
       "  </tbody>\n",
       "</table>\n",
       "</div>"
      ],
      "text/plain": [
       "           model splitting_data  accuracy_score  f1_score  precision_score  \\\n",
       "0  XGBClassifier          70:30        0.700397  0.680688         0.682934   \n",
       "1  XGBClassifier          80:20        0.708333  0.688825         0.697830   \n",
       "\n",
       "   recall_score  \n",
       "0      0.700397  \n",
       "1      0.708333  "
      ]
     },
     "execution_count": 29,
     "metadata": {},
     "output_type": "execute_result"
    }
   ],
   "source": [
    "# XGBoost\n",
    "xgb = XGBClassifier(use_label_encoder=False, eval_metric='mlogloss', random_state=0)\n",
    "# evaluasi model XGB sebelum SMOTE\n",
    "evaluate_model(xgb, xtrain, ytrain, xtest, ytest)"
   ]
  },
  {
   "cell_type": "code",
   "execution_count": 30,
   "id": "f0aaba5d",
   "metadata": {},
   "outputs": [
    {
     "data": {
      "text/html": [
       "<div>\n",
       "<style scoped>\n",
       "    .dataframe tbody tr th:only-of-type {\n",
       "        vertical-align: middle;\n",
       "    }\n",
       "\n",
       "    .dataframe tbody tr th {\n",
       "        vertical-align: top;\n",
       "    }\n",
       "\n",
       "    .dataframe thead th {\n",
       "        text-align: right;\n",
       "    }\n",
       "</style>\n",
       "<table border=\"1\" class=\"dataframe\">\n",
       "  <thead>\n",
       "    <tr style=\"text-align: right;\">\n",
       "      <th></th>\n",
       "      <th>model</th>\n",
       "      <th>splitting_data</th>\n",
       "      <th>accuracy_score</th>\n",
       "      <th>f1_score</th>\n",
       "      <th>precision_score</th>\n",
       "      <th>recall_score</th>\n",
       "    </tr>\n",
       "  </thead>\n",
       "  <tbody>\n",
       "    <tr>\n",
       "      <th>0</th>\n",
       "      <td>GradientBoostingClassifier</td>\n",
       "      <td>70:30</td>\n",
       "      <td>0.712302</td>\n",
       "      <td>0.690986</td>\n",
       "      <td>0.701912</td>\n",
       "      <td>0.712302</td>\n",
       "    </tr>\n",
       "    <tr>\n",
       "      <th>1</th>\n",
       "      <td>GradientBoostingClassifier</td>\n",
       "      <td>80:20</td>\n",
       "      <td>0.717262</td>\n",
       "      <td>0.690335</td>\n",
       "      <td>0.710633</td>\n",
       "      <td>0.717262</td>\n",
       "    </tr>\n",
       "  </tbody>\n",
       "</table>\n",
       "</div>"
      ],
      "text/plain": [
       "                        model splitting_data  accuracy_score  f1_score  \\\n",
       "0  GradientBoostingClassifier          70:30        0.712302  0.690986   \n",
       "1  GradientBoostingClassifier          80:20        0.717262  0.690335   \n",
       "\n",
       "   precision_score  recall_score  \n",
       "0         0.701912      0.712302  \n",
       "1         0.710633      0.717262  "
      ]
     },
     "execution_count": 30,
     "metadata": {},
     "output_type": "execute_result"
    }
   ],
   "source": [
    "# Gradient Boosting\n",
    "grad = GradientBoostingClassifier(random_state=0)\n",
    "evaluate_model(grad, xtrain, ytrain, xtest, ytest)"
   ]
  },
  {
   "cell_type": "markdown",
   "id": "8cbeea24",
   "metadata": {},
   "source": [
    "#### Model Boosting Sesudah SMOTE"
   ]
  },
  {
   "cell_type": "code",
   "execution_count": 31,
   "id": "54ada7e0",
   "metadata": {},
   "outputs": [
    {
     "name": "stdout",
     "output_type": "stream",
     "text": [
      "[LightGBM] [Info] Auto-choosing col-wise multi-threading, the overhead of testing was 0.002216 seconds.\n",
      "You can set `force_col_wise=true` to remove the overhead.\n",
      "[LightGBM] [Info] Total Bins 63657\n",
      "[LightGBM] [Info] Number of data points in the train set: 1734, number of used features: 250\n",
      "[LightGBM] [Info] Start training from score -1.098612\n",
      "[LightGBM] [Info] Start training from score -1.098612\n",
      "[LightGBM] [Info] Start training from score -1.098612\n",
      "[LightGBM] [Info] Auto-choosing col-wise multi-threading, the overhead of testing was 0.003237 seconds.\n",
      "You can set `force_col_wise=true` to remove the overhead.\n",
      "[LightGBM] [Info] Total Bins 63666\n",
      "[LightGBM] [Info] Number of data points in the train set: 1983, number of used features: 250\n",
      "[LightGBM] [Info] Start training from score -1.098612\n",
      "[LightGBM] [Info] Start training from score -1.098612\n",
      "[LightGBM] [Info] Start training from score -1.098612\n"
     ]
    },
    {
     "data": {
      "text/html": [
       "<div>\n",
       "<style scoped>\n",
       "    .dataframe tbody tr th:only-of-type {\n",
       "        vertical-align: middle;\n",
       "    }\n",
       "\n",
       "    .dataframe tbody tr th {\n",
       "        vertical-align: top;\n",
       "    }\n",
       "\n",
       "    .dataframe thead th {\n",
       "        text-align: right;\n",
       "    }\n",
       "</style>\n",
       "<table border=\"1\" class=\"dataframe\">\n",
       "  <thead>\n",
       "    <tr style=\"text-align: right;\">\n",
       "      <th></th>\n",
       "      <th>model</th>\n",
       "      <th>splitting_data</th>\n",
       "      <th>accuracy_score</th>\n",
       "      <th>f1_score</th>\n",
       "      <th>precision_score</th>\n",
       "      <th>recall_score</th>\n",
       "    </tr>\n",
       "  </thead>\n",
       "  <tbody>\n",
       "    <tr>\n",
       "      <th>0</th>\n",
       "      <td>LGBMClassifier</td>\n",
       "      <td>70:30</td>\n",
       "      <td>0.694444</td>\n",
       "      <td>0.692357</td>\n",
       "      <td>0.694038</td>\n",
       "      <td>0.694444</td>\n",
       "    </tr>\n",
       "    <tr>\n",
       "      <th>1</th>\n",
       "      <td>LGBMClassifier</td>\n",
       "      <td>80:20</td>\n",
       "      <td>0.702381</td>\n",
       "      <td>0.703710</td>\n",
       "      <td>0.715261</td>\n",
       "      <td>0.702381</td>\n",
       "    </tr>\n",
       "  </tbody>\n",
       "</table>\n",
       "</div>"
      ],
      "text/plain": [
       "            model splitting_data  accuracy_score  f1_score  precision_score  \\\n",
       "0  LGBMClassifier          70:30        0.694444  0.692357         0.694038   \n",
       "1  LGBMClassifier          80:20        0.702381  0.703710         0.715261   \n",
       "\n",
       "   recall_score  \n",
       "0      0.694444  \n",
       "1      0.702381  "
      ]
     },
     "execution_count": 31,
     "metadata": {},
     "output_type": "execute_result"
    }
   ],
   "source": [
    "# lgbm\n",
    "evaluate_model(lgb, x_train_smote, y_train_smote, xtest, ytest)"
   ]
  },
  {
   "cell_type": "code",
   "execution_count": 32,
   "id": "6c9fb646",
   "metadata": {},
   "outputs": [
    {
     "name": "stderr",
     "output_type": "stream",
     "text": [
      "/Users/apa/.pyenv/versions/3.10.12/lib/python3.10/site-packages/xgboost/core.py:158: UserWarning: [14:58:58] WARNING: /Users/runner/work/xgboost/xgboost/src/learner.cc:740: \n",
      "Parameters: { \"use_label_encoder\" } are not used.\n",
      "\n",
      "  warnings.warn(smsg, UserWarning)\n",
      "/Users/apa/.pyenv/versions/3.10.12/lib/python3.10/site-packages/xgboost/core.py:158: UserWarning: [14:59:00] WARNING: /Users/runner/work/xgboost/xgboost/src/learner.cc:740: \n",
      "Parameters: { \"use_label_encoder\" } are not used.\n",
      "\n",
      "  warnings.warn(smsg, UserWarning)\n"
     ]
    },
    {
     "data": {
      "text/html": [
       "<div>\n",
       "<style scoped>\n",
       "    .dataframe tbody tr th:only-of-type {\n",
       "        vertical-align: middle;\n",
       "    }\n",
       "\n",
       "    .dataframe tbody tr th {\n",
       "        vertical-align: top;\n",
       "    }\n",
       "\n",
       "    .dataframe thead th {\n",
       "        text-align: right;\n",
       "    }\n",
       "</style>\n",
       "<table border=\"1\" class=\"dataframe\">\n",
       "  <thead>\n",
       "    <tr style=\"text-align: right;\">\n",
       "      <th></th>\n",
       "      <th>model</th>\n",
       "      <th>splitting_data</th>\n",
       "      <th>accuracy_score</th>\n",
       "      <th>f1_score</th>\n",
       "      <th>precision_score</th>\n",
       "      <th>recall_score</th>\n",
       "    </tr>\n",
       "  </thead>\n",
       "  <tbody>\n",
       "    <tr>\n",
       "      <th>0</th>\n",
       "      <td>XGBClassifier</td>\n",
       "      <td>70:30</td>\n",
       "      <td>0.702381</td>\n",
       "      <td>0.701966</td>\n",
       "      <td>0.705843</td>\n",
       "      <td>0.702381</td>\n",
       "    </tr>\n",
       "    <tr>\n",
       "      <th>1</th>\n",
       "      <td>XGBClassifier</td>\n",
       "      <td>80:20</td>\n",
       "      <td>0.729167</td>\n",
       "      <td>0.731239</td>\n",
       "      <td>0.747232</td>\n",
       "      <td>0.729167</td>\n",
       "    </tr>\n",
       "  </tbody>\n",
       "</table>\n",
       "</div>"
      ],
      "text/plain": [
       "           model splitting_data  accuracy_score  f1_score  precision_score  \\\n",
       "0  XGBClassifier          70:30        0.702381  0.701966         0.705843   \n",
       "1  XGBClassifier          80:20        0.729167  0.731239         0.747232   \n",
       "\n",
       "   recall_score  \n",
       "0      0.702381  \n",
       "1      0.729167  "
      ]
     },
     "execution_count": 32,
     "metadata": {},
     "output_type": "execute_result"
    }
   ],
   "source": [
    "# XGBoost\n",
    "evaluate_model(xgb, x_train_smote, y_train_smote, xtest, ytest)"
   ]
  },
  {
   "cell_type": "code",
   "execution_count": 33,
   "id": "f77d6173",
   "metadata": {},
   "outputs": [
    {
     "data": {
      "text/html": [
       "<div>\n",
       "<style scoped>\n",
       "    .dataframe tbody tr th:only-of-type {\n",
       "        vertical-align: middle;\n",
       "    }\n",
       "\n",
       "    .dataframe tbody tr th {\n",
       "        vertical-align: top;\n",
       "    }\n",
       "\n",
       "    .dataframe thead th {\n",
       "        text-align: right;\n",
       "    }\n",
       "</style>\n",
       "<table border=\"1\" class=\"dataframe\">\n",
       "  <thead>\n",
       "    <tr style=\"text-align: right;\">\n",
       "      <th></th>\n",
       "      <th>model</th>\n",
       "      <th>splitting_data</th>\n",
       "      <th>accuracy_score</th>\n",
       "      <th>f1_score</th>\n",
       "      <th>precision_score</th>\n",
       "      <th>recall_score</th>\n",
       "    </tr>\n",
       "  </thead>\n",
       "  <tbody>\n",
       "    <tr>\n",
       "      <th>0</th>\n",
       "      <td>GradientBoostingClassifier</td>\n",
       "      <td>70:30</td>\n",
       "      <td>0.682540</td>\n",
       "      <td>0.690362</td>\n",
       "      <td>0.707896</td>\n",
       "      <td>0.682540</td>\n",
       "    </tr>\n",
       "    <tr>\n",
       "      <th>1</th>\n",
       "      <td>GradientBoostingClassifier</td>\n",
       "      <td>80:20</td>\n",
       "      <td>0.699405</td>\n",
       "      <td>0.712864</td>\n",
       "      <td>0.735684</td>\n",
       "      <td>0.699405</td>\n",
       "    </tr>\n",
       "  </tbody>\n",
       "</table>\n",
       "</div>"
      ],
      "text/plain": [
       "                        model splitting_data  accuracy_score  f1_score  \\\n",
       "0  GradientBoostingClassifier          70:30        0.682540  0.690362   \n",
       "1  GradientBoostingClassifier          80:20        0.699405  0.712864   \n",
       "\n",
       "   precision_score  recall_score  \n",
       "0         0.707896      0.682540  \n",
       "1         0.735684      0.699405  "
      ]
     },
     "execution_count": 33,
     "metadata": {},
     "output_type": "execute_result"
    }
   ],
   "source": [
    "# gradient Boosting\n",
    "evaluate_model(grad, x_train_smote, y_train_smote, xtest, ytest)"
   ]
  },
  {
   "cell_type": "markdown",
   "id": "8019d2dd",
   "metadata": {},
   "source": [
    "## Model KNN + Boosting"
   ]
  },
  {
   "cell_type": "code",
   "execution_count": 34,
   "id": "7804bef0",
   "metadata": {},
   "outputs": [
    {
     "name": "stdout",
     "output_type": "stream",
     "text": [
      "[LightGBM] [Info] Auto-choosing col-wise multi-threading, the overhead of testing was 0.002160 seconds.\n",
      "You can set `force_col_wise=true` to remove the overhead.\n",
      "[LightGBM] [Info] Total Bins 63617\n",
      "[LightGBM] [Info] Number of data points in the train set: 1342, number of used features: 250\n",
      "[LightGBM] [Info] Start training from score -2.349886\n",
      "[LightGBM] [Info] Start training from score -0.708162\n",
      "[LightGBM] [Info] Start training from score -0.886558\n"
     ]
    },
    {
     "data": {
      "text/html": [
       "<div>\n",
       "<style scoped>\n",
       "    .dataframe tbody tr th:only-of-type {\n",
       "        vertical-align: middle;\n",
       "    }\n",
       "\n",
       "    .dataframe tbody tr th {\n",
       "        vertical-align: top;\n",
       "    }\n",
       "\n",
       "    .dataframe thead th {\n",
       "        text-align: right;\n",
       "    }\n",
       "</style>\n",
       "<table border=\"1\" class=\"dataframe\">\n",
       "  <thead>\n",
       "    <tr style=\"text-align: right;\">\n",
       "      <th></th>\n",
       "      <th>model</th>\n",
       "      <th>splitting_data</th>\n",
       "      <th>accuracy_score</th>\n",
       "      <th>f1_score</th>\n",
       "      <th>precision_score</th>\n",
       "      <th>recall_score</th>\n",
       "    </tr>\n",
       "  </thead>\n",
       "  <tbody>\n",
       "    <tr>\n",
       "      <th>0</th>\n",
       "      <td>KNeighborsClassifier</td>\n",
       "      <td>70:30</td>\n",
       "      <td>0.705357</td>\n",
       "      <td>0.705263</td>\n",
       "      <td>0.715725</td>\n",
       "      <td>0.705357</td>\n",
       "    </tr>\n",
       "  </tbody>\n",
       "</table>\n",
       "</div>"
      ],
      "text/plain": [
       "                  model splitting_data  accuracy_score  f1_score  \\\n",
       "0  KNeighborsClassifier          70:30        0.705357  0.705263   \n",
       "\n",
       "   precision_score  recall_score  \n",
       "0         0.715725      0.705357  "
      ]
     },
     "execution_count": 34,
     "metadata": {},
     "output_type": "execute_result"
    }
   ],
   "source": [
    "lgb2 = LGBMClassifier(random_state=0)\n",
    "lgb2.fit(x80_train.astype('float32'), y20_train)\n",
    "# output lgbm untuk prediksi menggunakan knn\n",
    "xtrain_lgbm = lgb.predict_proba(x80_train.astype('float32'))\n",
    "xtest_lgbm = lgb.predict_proba(x80_test.astype('float32'))\n",
    "\n",
    "# model KNN + Boosting\n",
    "knn_lgbm = KNeighborsClassifier(n_neighbors=5)\n",
    "knn_lgbm.fit(xtrain_lgbm, y20_train)\n",
    "# evaluasi model KNN + Boosting\n",
    "evaluate_model(knn_lgbm, [xtrain_lgbm], [y20_train], [xtest_lgbm], [y20_test])"
   ]
  },
  {
   "cell_type": "code",
   "execution_count": 35,
   "id": "3c63269d",
   "metadata": {},
   "outputs": [
    {
     "data": {
      "text/plain": [
       "array([[9.98281735e-01, 6.80106759e-04, 1.03815852e-03],\n",
       "       [5.50854420e-03, 9.89196420e-01, 5.29503536e-03],\n",
       "       [1.01804516e-03, 1.34811733e-02, 9.85500781e-01],\n",
       "       ...,\n",
       "       [8.85876498e-06, 5.82995993e-05, 9.99932842e-01],\n",
       "       [9.97725243e-01, 2.02965949e-03, 2.45097164e-04],\n",
       "       [4.50923788e-03, 9.11193613e-03, 9.86378826e-01]])"
      ]
     },
     "execution_count": 35,
     "metadata": {},
     "output_type": "execute_result"
    }
   ],
   "source": [
    "xtrain_lgbm"
   ]
  },
  {
   "cell_type": "code",
   "execution_count": 36,
   "id": "e71e4712",
   "metadata": {},
   "outputs": [],
   "source": [
    "with open(\"models/lgb.pkl\", \"wb\") as f:\n",
    "    pickle.dump(lgb2, f)"
   ]
  },
  {
   "cell_type": "code",
   "execution_count": 37,
   "id": "eaec652e",
   "metadata": {},
   "outputs": [],
   "source": [
    "with open(\"models/knn_lgbm.pkl\", \"wb\") as f:\n",
    "    pickle.dump(knn_lgbm, f)"
   ]
  },
  {
   "cell_type": "code",
   "execution_count": null,
   "id": "9a505d18",
   "metadata": {},
   "outputs": [],
   "source": []
  }
 ],
 "metadata": {
  "kernelspec": {
   "display_name": "3.10.12",
   "language": "python",
   "name": "python3"
  },
  "language_info": {
   "codemirror_mode": {
    "name": "ipython",
    "version": 3
   },
   "file_extension": ".py",
   "mimetype": "text/x-python",
   "name": "python",
   "nbconvert_exporter": "python",
   "pygments_lexer": "ipython3",
   "version": "3.10.12"
  }
 },
 "nbformat": 4,
 "nbformat_minor": 5
}
